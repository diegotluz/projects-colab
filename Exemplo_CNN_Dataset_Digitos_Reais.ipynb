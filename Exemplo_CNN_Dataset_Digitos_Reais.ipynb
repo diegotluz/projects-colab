{
  "nbformat": 4,
  "nbformat_minor": 0,
  "metadata": {
    "colab": {
      "provenance": [],
      "include_colab_link": true
    },
    "kernelspec": {
      "name": "python3",
      "display_name": "Python 3"
    },
    "language_info": {
      "name": "python"
    },
    "accelerator": "GPU"
  },
  "cells": [
    {
      "cell_type": "markdown",
      "metadata": {
        "id": "view-in-github",
        "colab_type": "text"
      },
      "source": [
        "<a href=\"https://colab.research.google.com/github/diegotluz/projects-colab/blob/main/Exemplo_CNN_Dataset_Digitos_Reais.ipynb\" target=\"_parent\"><img src=\"https://colab.research.google.com/assets/colab-badge.svg\" alt=\"Open In Colab\"/></a>"
      ]
    },
    {
      "cell_type": "markdown",
      "source": [
        "##Classificação de Imagens Reais"
      ],
      "metadata": {
        "id": "AvMeZ9GnrDNW"
      }
    },
    {
      "cell_type": "markdown",
      "source": [
        "Baixe o seguinte arquivo: https://www.dropbox.com/s/sofyakylqodcrd3/Digitos.zip?dl=0"
      ],
      "metadata": {
        "id": "FF1phSI0q2iv"
      }
    },
    {
      "cell_type": "markdown",
      "source": [
        "Faça o upload desse aquivo para a pasta principal de arquivos do Google Colab"
      ],
      "metadata": {
        "id": "aGX8W352rI8x"
      }
    },
    {
      "cell_type": "code",
      "metadata": {
        "id": "Z-dlXc3p_aEL"
      },
      "source": [
        "import matplotlib.pyplot as plt\n",
        "from tensorflow import keras\n",
        "from keras.models import Sequential\n",
        "from keras.layers import Dense\n",
        "from keras.layers import Dropout\n",
        "from keras.layers import Flatten\n",
        "from keras.layers import Conv2D\n",
        "from keras.layers import MaxPooling2D,AveragePooling2D\n",
        "from keras.utils import img_to_array , load_img\n",
        "import numpy as np\n",
        "\n",
        "from keras.callbacks import ModelCheckpoint\n",
        "from tensorflow.keras.preprocessing.image import ImageDataGenerator"
      ],
      "execution_count": null,
      "outputs": []
    },
    {
      "cell_type": "code",
      "source": [
        "import zipfile"
      ],
      "metadata": {
        "id": "hTccMVr9gJ_z"
      },
      "execution_count": null,
      "outputs": []
    },
    {
      "cell_type": "code",
      "source": [
        "with zipfile.ZipFile('/content/Digitos.zip', 'r') as zip_ref:\n",
        "    zip_ref.extractall('/content/Datasets')"
      ],
      "metadata": {
        "id": "kAsEKWj9gNWQ"
      },
      "execution_count": null,
      "outputs": []
    },
    {
      "cell_type": "code",
      "metadata": {
        "id": "FLyqlsKVDhUl"
      },
      "source": [
        "train_datagen = ImageDataGenerator(validation_split=0.20)\n",
        "train_generator = train_datagen.flow_from_directory(\n",
        "    '/content/Datasets/Digitos/Treinamento',\n",
        "    batch_size=200,\n",
        "    color_mode = 'grayscale',\n",
        "    subset='training',\n",
        "    target_size=(30, 30))\n"
      ],
      "execution_count": null,
      "outputs": []
    },
    {
      "cell_type": "code",
      "metadata": {
        "id": "_BaY8FN6fR6x"
      },
      "source": [
        "valid_generator = train_datagen.flow_from_directory(\n",
        "    '/content/Datasets/Digitos/Treinamento',\n",
        "    batch_size=200,\n",
        "    color_mode = 'grayscale',\n",
        "    subset='validation',\n",
        "    target_size=(30, 30))"
      ],
      "execution_count": null,
      "outputs": []
    },
    {
      "cell_type": "code",
      "metadata": {
        "id": "j_lsEBqlfu4a"
      },
      "source": [
        "#Visualizando\n",
        "x,y = next(train_generator)\n",
        "for i in range(0,1):\n",
        "    image = x[i]\n",
        "    plt.imshow(image[:,:,0], cmap=plt.get_cmap('gray'))\n",
        "    plt.show()"
      ],
      "execution_count": null,
      "outputs": []
    },
    {
      "cell_type": "code",
      "source": [
        "x.shape"
      ],
      "metadata": {
        "id": "Nx9NfTsMngki"
      },
      "execution_count": null,
      "outputs": []
    },
    {
      "cell_type": "code",
      "source": [
        "image.shape"
      ],
      "metadata": {
        "id": "K8Kcd-yAnlfJ"
      },
      "execution_count": null,
      "outputs": []
    },
    {
      "cell_type": "code",
      "source": [
        "y[0]"
      ],
      "metadata": {
        "id": "rdrlDd0WeLZD"
      },
      "execution_count": null,
      "outputs": []
    },
    {
      "cell_type": "code",
      "metadata": {
        "id": "NbOaV-gQgXpH"
      },
      "source": [
        "num_classes = 10\n",
        "\n",
        "STEP_SIZE_TRAIN=train_generator.n//train_generator.batch_size\n",
        "STEP_SIZE_VALID=valid_generator.n//valid_generator.batch_size\n"
      ],
      "execution_count": null,
      "outputs": []
    },
    {
      "cell_type": "code",
      "metadata": {
        "id": "kxlPBEOxgZMM"
      },
      "source": [
        "# Cria o modelo\n",
        "model = Sequential()\n",
        "\n",
        "#Convolução 2D com função de ativação Rectified Linear Units 64 kernels/Pesos (filtros)\n",
        "model.add(Conv2D(64, (5, 5), input_shape=(30,30,1), activation='relu'))\n",
        "print( model.output_shape)\n",
        "#Camada de Pooling\n",
        "model.add(AveragePooling2D(pool_size=(2, 2)))\n",
        "print( model.output_shape)\n",
        "\n",
        "#Convolução 2D com função de ativação Rectified Linear Units 128 kernels/Pesos (filtros)\n",
        "model.add(Conv2D(128, (3, 3), activation='relu'))\n",
        "print( model.output_shape)\n",
        "#Camada de Pooling\n",
        "model.add(AveragePooling2D(pool_size=(2, 2)))\n",
        "print( model.output_shape)\n",
        "\n",
        "#Remove 30% dos dados de entrada aleatoriamente\n",
        "model.add(Dropout(0.3))\n",
        "#Converte o conjunto de imagens e um vetor unidimensional para a entrada da rede neural totalmente conectada\n",
        "model.add(Flatten())\n",
        "print( model.output_shape)\n",
        "\n",
        "model.add(Dense(64, activation='relu'))\n",
        "print( model.output_shape)\n",
        "model.add(Dense(64, activation='relu'))\n",
        "print( model.output_shape)\n",
        "model.add(Dense(num_classes, activation='softmax'))\n",
        "print( model.output_shape)\n"
      ],
      "execution_count": null,
      "outputs": []
    },
    {
      "cell_type": "code",
      "metadata": {
        "id": "9Zo-NEaegdNh"
      },
      "source": [
        "model.compile(loss='categorical_crossentropy', optimizer='adam', metrics=['accuracy'])"
      ],
      "execution_count": null,
      "outputs": []
    },
    {
      "cell_type": "code",
      "metadata": {
        "id": "az7y6EhkgiOe"
      },
      "source": [
        "mcp_save = ModelCheckpoint('model_best.keras', monitor='val_accuracy', mode= 'auto', save_best_only=True, verbose =1)\n",
        "#reduce_lr_loss = ReduceLROnPlateau(monitor='val_loss', factor=0.1, patience=7, verbose=1, epsilon=1e-4, mode='min')\n",
        "\n",
        "model.summary()\n",
        "\n",
        "model.fit(train_generator,\n",
        "                    steps_per_epoch=STEP_SIZE_TRAIN,\n",
        "                    validation_data=valid_generator,\n",
        "                    validation_steps=STEP_SIZE_VALID,\n",
        "                    epochs=10, callbacks=[mcp_save])"
      ],
      "execution_count": null,
      "outputs": []
    },
    {
      "cell_type": "code",
      "metadata": {
        "id": "k2dFjFKUgpnA"
      },
      "source": [
        "test_datagen = ImageDataGenerator()\n",
        "test_generator = test_datagen.flow_from_directory(\n",
        "    '/content/Datasets/Digitos/Teste',\n",
        "    batch_size=1,\n",
        "    color_mode = 'grayscale',\n",
        "    target_size=(30, 30))"
      ],
      "execution_count": null,
      "outputs": []
    },
    {
      "cell_type": "code",
      "metadata": {
        "id": "R-oBAzcAgzwL"
      },
      "source": [
        "scores = model.evaluate(test_generator)\n",
        "print(scores)"
      ],
      "execution_count": null,
      "outputs": []
    },
    {
      "cell_type": "code",
      "metadata": {
        "id": "2uDyTaiCg0-H",
        "collapsed": true
      },
      "source": [
        "predictions = model.predict(test_generator)\n",
        "print(predictions)"
      ],
      "execution_count": null,
      "outputs": []
    },
    {
      "cell_type": "code",
      "source": [
        "res1 = np.argmax(predictions[0,:])\n",
        "print(res1)"
      ],
      "metadata": {
        "id": "JG9lcmU0gtgZ"
      },
      "execution_count": null,
      "outputs": []
    },
    {
      "cell_type": "markdown",
      "source": [
        "Como Fazer a predição de uma imagem PNG?"
      ],
      "metadata": {
        "id": "BtaLUbZ1mpu2"
      }
    },
    {
      "cell_type": "code",
      "source": [
        "#fileimg = r'D:\\digito_7_2SAN.png'\n",
        "fileimg = r'/content/Datasets/Digitos/Teste/7/digito_2_36-49-513863.png'\n",
        "\n",
        "img = load_img(fileimg , color_mode = \"grayscale\", target_size=(30, 30))\n",
        "\n",
        "#\n",
        "x = img_to_array(img)\n",
        "\n",
        "plt.imshow(x[:,:,0], cmap=plt.get_cmap('gray'))\n",
        "plt.show()"
      ],
      "metadata": {
        "id": "rrmeie27nHvg"
      },
      "execution_count": null,
      "outputs": []
    },
    {
      "cell_type": "code",
      "source": [
        "x.shape"
      ],
      "metadata": {
        "id": "zjF5TrAinZFj"
      },
      "execution_count": null,
      "outputs": []
    },
    {
      "cell_type": "code",
      "source": [
        "x = np.expand_dims(x, axis=0)\n",
        "x.shape"
      ],
      "metadata": {
        "id": "IFLveOHmnw5R"
      },
      "execution_count": null,
      "outputs": []
    },
    {
      "cell_type": "code",
      "source": [
        "y_pred = model.predict(x)\n",
        "\n",
        "res = np.argmax(y_pred)\n",
        "print(res)"
      ],
      "metadata": {
        "id": "te7CvbA2moT8"
      },
      "execution_count": null,
      "outputs": []
    },
    {
      "cell_type": "code",
      "source": [
        "y_pred"
      ],
      "metadata": {
        "id": "NOTuya-1MGRB"
      },
      "execution_count": null,
      "outputs": []
    },
    {
      "cell_type": "code",
      "source": [
        "train_generator.class_indices"
      ],
      "metadata": {
        "id": "PZJPF99ewuQ8"
      },
      "execution_count": null,
      "outputs": []
    }
  ]
}