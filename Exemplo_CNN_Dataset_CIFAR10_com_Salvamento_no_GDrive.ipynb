{
  "cells": [
    {
      "cell_type": "markdown",
      "metadata": {
        "id": "view-in-github",
        "colab_type": "text"
      },
      "source": [
        "<a href=\"https://colab.research.google.com/github/diegotluz/projects-colab/blob/main/Exemplo_CNN_Dataset_CIFAR10_com_Salvamento_no_GDrive.ipynb\" target=\"_parent\"><img src=\"https://colab.research.google.com/assets/colab-badge.svg\" alt=\"Open In Colab\"/></a>"
      ]
    },
    {
      "cell_type": "markdown",
      "metadata": {
        "id": "otE130RKbghw"
      },
      "source": [
        "### 1. Carregando Bibliotecas"
      ]
    },
    {
      "cell_type": "code",
      "execution_count": null,
      "metadata": {
        "id": "dcou9WHXaW65"
      },
      "outputs": [],
      "source": [
        "import numpy as np\n",
        "import matplotlib.pyplot as plt\n",
        "from tensorflow import keras\n",
        "from keras.datasets import cifar10\n",
        "from keras.models import Sequential,load_model\n",
        "from keras.layers import Conv2D, MaxPooling2D, Flatten, Dense, Dropout, AveragePooling2D\n",
        "from keras.utils import plot_model\n",
        "from keras.utils import  to_categorical"
      ]
    },
    {
      "cell_type": "markdown",
      "metadata": {
        "id": "_5TsmE8Wm_T-"
      },
      "source": [
        "Inicializa o Google Drive. É necessário entrar com as credenciais do Gmail"
      ]
    },
    {
      "cell_type": "code",
      "execution_count": null,
      "metadata": {
        "id": "2iISxCOkkQke"
      },
      "outputs": [],
      "source": [
        "from google.colab import drive\n",
        "drive.mount('/content/drive')"
      ]
    },
    {
      "cell_type": "markdown",
      "metadata": {
        "id": "R7oGbcd2aW6_"
      },
      "source": [
        "### 2. Carregando o dataset pré-embaralhado de treinamento bem como os dados de teste"
      ]
    },
    {
      "cell_type": "code",
      "execution_count": null,
      "metadata": {
        "id": "SXsnCsUUaW7A"
      },
      "outputs": [],
      "source": [
        "(x_train, y_train), (x_test, y_test) = cifar10.load_data()"
      ]
    },
    {
      "cell_type": "code",
      "execution_count": null,
      "metadata": {
        "id": "Z_aqf2ChaW7D"
      },
      "outputs": [],
      "source": [
        "print('Train: X=%s, y=%s' % (x_train.shape, y_train.shape))\n",
        "print('Test: X=%s, y=%s' % (x_test.shape, y_test.shape))\n",
        "# plot first few images\n",
        "for i in range(9):\n",
        "\t# define subplot\n",
        "\tplt.subplot(330 + 1 + i)\n",
        "\t# plot raw pixel data\n",
        "\tplt.imshow(x_train[i])\n",
        "# show the figure\n",
        "plt.show()"
      ]
    },
    {
      "cell_type": "markdown",
      "metadata": {
        "id": "42-kR3SKaW7G"
      },
      "source": [
        "### 3. Redimensionando as imagens e dividindo cada pixel em cada imagem por 255"
      ]
    },
    {
      "cell_type": "code",
      "execution_count": null,
      "metadata": {
        "id": "NM8XQsAwaW7G"
      },
      "outputs": [],
      "source": [
        "x_train = x_train.astype('float32')/255\n",
        "x_test = x_test.astype('float32')/255"
      ]
    },
    {
      "cell_type": "markdown",
      "metadata": {
        "id": "ddCl1QQjaW7J"
      },
      "source": [
        "### 4.  Dividindo o dataset em treinamento, teste e validação"
      ]
    },
    {
      "cell_type": "markdown",
      "metadata": {
        "id": "M3ZDqxiDaW7K"
      },
      "source": [
        "\"One-hot encoding\" aplicado aos rótulos\n"
      ]
    },
    {
      "cell_type": "code",
      "execution_count": null,
      "metadata": {
        "id": "Cz0J_BXfaW7K"
      },
      "outputs": [],
      "source": [
        "num_classes = len(np.unique(y_train))\n",
        "y_train = to_categorical(y_train, num_classes)\n",
        "y_test = to_categorical(y_test, num_classes)"
      ]
    },
    {
      "cell_type": "code",
      "execution_count": null,
      "metadata": {
        "id": "k0Lgy_ES02Ab"
      },
      "outputs": [],
      "source": [
        "y_train"
      ]
    },
    {
      "cell_type": "code",
      "execution_count": null,
      "metadata": {
        "id": "TlBm-2J0w8Pu"
      },
      "outputs": [],
      "source": [
        "num_classes"
      ]
    },
    {
      "cell_type": "code",
      "execution_count": null,
      "metadata": {
        "id": "550hkwVCt8O0"
      },
      "outputs": [],
      "source": [
        "x_train.shape"
      ]
    },
    {
      "cell_type": "markdown",
      "metadata": {
        "id": "J0ILLTc5aW7O"
      },
      "source": [
        "divindo dataset de treinamento em treinamento, teste e validação - Apenas para exemplo em um ambiente real as amostras devem ser seleciondas de forma aleatória"
      ]
    },
    {
      "cell_type": "code",
      "execution_count": null,
      "metadata": {
        "id": "QJYbFAXyaW7O"
      },
      "outputs": [],
      "source": [
        "(x_train, x_valid) = x_train[5000:], x_train[:5000]\n",
        "(y_train, y_valid) = y_train[5000:], y_train[:5000]"
      ]
    },
    {
      "cell_type": "markdown",
      "metadata": {
        "id": "DhJV2MLcaW7S"
      },
      "source": [
        "Impressão da forma do conjunto de treino"
      ]
    },
    {
      "cell_type": "code",
      "execution_count": null,
      "metadata": {
        "id": "4UE7aRB1aW7S"
      },
      "outputs": [],
      "source": [
        "print('x_train shape:', x_train.shape)"
      ]
    },
    {
      "cell_type": "code",
      "execution_count": null,
      "metadata": {
        "id": "uN8tbbt2pHsn"
      },
      "outputs": [],
      "source": [
        "print('x_valid shape:', x_valid.shape)"
      ]
    },
    {
      "cell_type": "markdown",
      "metadata": {
        "id": "FP2xFvk1aW7V"
      },
      "source": [
        "Impressão do número de imagens nos datasets de treinamento, teste e validação"
      ]
    },
    {
      "cell_type": "code",
      "execution_count": null,
      "metadata": {
        "id": "ohPQHIoeaW7W"
      },
      "outputs": [],
      "source": [
        "print(x_train.shape[0], 'train samples')\n",
        "print(x_test.shape[0], 'test samples')\n",
        "print(x_valid.shape[0], 'validation samples')"
      ]
    },
    {
      "cell_type": "markdown",
      "metadata": {
        "id": "2GgO9BaWaW7a"
      },
      "source": [
        "### 5. Definindo a arquitetura do modelo (IMPORTANTE!) - Dicas\n",
        "\n",
        "*   Tente utilizar 2-4 camadas convolucionais de tamanho progressivamente crescente\n",
        "*   Use no máximo de 2 ou 3 camadas de \"pooling\" (2x2) após as camadas convolucionais\n",
        "*   Use uma camada do tipo totalmente conectada de 128-512 neurônios\n",
        "*   Use uma camada do tipo totalmente conectada de 64-256 neurônios\n",
        "*   Ultimas camadas do tipo totalmente conectadas de 10 saídas (10 classes de categoria de imagem)\n",
        "*   \"Dropout\" de 0,2-0,3\n",
        "\n",
        "\n",
        "\n",
        "\n",
        "\n"
      ]
    },
    {
      "cell_type": "code",
      "execution_count": null,
      "metadata": {
        "id": "sKpPcYJgaW7b"
      },
      "outputs": [],
      "source": [
        "model = Sequential()\n",
        "model.add(Conv2D(filters=32, kernel_size=3,  activation='relu', input_shape=(32, 32, 3)))\n",
        "#model.add(Conv2D(32, (3,3)),  activation='relu', input_shape=(32, 32, 3)))\n",
        "\n",
        "model.add(MaxPooling2D(pool_size=2))\n",
        "model.add(Dropout(0.2))\n",
        "\n",
        "model.add(Flatten())\n",
        "\n",
        "model.add(Dense(32, activation='sigmoid'))\n",
        "model.add(Dropout(0.2))\n",
        "model.add(Dense(16, activation='sigmoid'))\n",
        "model.add(Dropout(0.2))\n",
        "model.add(Dense(num_classes, activation='softmax'))"
      ]
    },
    {
      "cell_type": "markdown",
      "metadata": {
        "id": "6wlr2f_XaW7u"
      },
      "source": [
        "Tentem executar a rede configurando outras funções de ativação (como visto em nossa Aula 3)\n",
        "mais informações em https://keras.io/activations/"
      ]
    },
    {
      "cell_type": "code",
      "execution_count": null,
      "metadata": {
        "id": "ZZSrvVOtaW7v"
      },
      "outputs": [],
      "source": [
        "plot_model(model, to_file='cnn-CIFAR10.png', show_shapes=True, show_layer_names=True)"
      ]
    },
    {
      "cell_type": "code",
      "execution_count": null,
      "metadata": {
        "id": "iyLpUV6uYnBj"
      },
      "outputs": [],
      "source": [
        "model.summary()"
      ]
    },
    {
      "cell_type": "markdown",
      "metadata": {
        "id": "WhZll9rPaW7z"
      },
      "source": [
        "### 6. Compilando o modelo"
      ]
    },
    {
      "cell_type": "markdown",
      "metadata": {
        "id": "xwb4q8aAaW70"
      },
      "source": [
        "Compilando o modelo escolhendo como se dará nossa perda, otimização e métricas (parâmetros do Keras)\n",
        "* mais informações em https://keras.io/losses/\n",
        "* mais informações em https://keras.io/optimizers/\n",
        "* mais informações em https://keras.io/metrics/"
      ]
    },
    {
      "cell_type": "code",
      "execution_count": null,
      "metadata": {
        "id": "ZcvIa0_QaW71"
      },
      "outputs": [],
      "source": [
        "model.compile(loss='categorical_crossentropy', optimizer='adam', metrics=['accuracy'])"
      ]
    },
    {
      "cell_type": "markdown",
      "metadata": {
        "id": "jgMEtk6BaW74"
      },
      "source": [
        "### 7. Treinando o modelo"
      ]
    },
    {
      "cell_type": "code",
      "execution_count": null,
      "metadata": {
        "id": "77K8i8WaaW75"
      },
      "outputs": [],
      "source": [
        "from keras.callbacks import ModelCheckpoint"
      ]
    },
    {
      "cell_type": "markdown",
      "metadata": {
        "id": "YcLE82rnaW79"
      },
      "source": [
        "#O keras passa a salvar o melhor modelo pela acurácia de validação"
      ]
    },
    {
      "cell_type": "code",
      "execution_count": null,
      "metadata": {
        "id": "mxDWlQN7aW7-"
      },
      "outputs": [],
      "source": [
        "checkpointer = ModelCheckpoint(filepath='/content/drive/My Drive/modelos/modelocifar_FIAP_CNN.keras', verbose=1,  save_best_only=True, monitor='val_accuracy') #\n",
        "\n",
        "hist = model.fit(x_train, y_train, batch_size=100, epochs=10, validation_data=(x_valid, y_valid), callbacks=[checkpointer], verbose=1, shuffle=True)"
      ]
    },
    {
      "cell_type": "code",
      "execution_count": null,
      "metadata": {
        "id": "GBOBG3riaW8C"
      },
      "outputs": [],
      "source": [
        "plt.figure(1)\n",
        "plt.plot(hist.history['accuracy'])\n",
        "plt.plot(hist.history['val_accuracy'])\n",
        "plt.title('model accuracy')\n",
        "plt.ylabel('accuracy')\n",
        "plt.xlabel('epoch')\n",
        "plt.legend(['train', 'validation'], loc='upper left')\n",
        "plt.show()"
      ]
    },
    {
      "cell_type": "markdown",
      "metadata": {
        "id": "V3deVwjCn52X"
      },
      "source": [
        "Carregar o melhor modelo que obteve a melhor acurácia de validação no treinamento"
      ]
    },
    {
      "cell_type": "code",
      "execution_count": null,
      "metadata": {
        "id": "tp11t4BIln6R"
      },
      "outputs": [],
      "source": [
        "model = load_model(\"/content/drive/My Drive/modelos/modelocifar_FIAP_CNN.keras\")"
      ]
    },
    {
      "cell_type": "markdown",
      "metadata": {
        "id": "Chs1lS5yaW8E"
      },
      "source": [
        "### 8. Cálculo da precisão de classificação no dataset de testes"
      ]
    },
    {
      "cell_type": "markdown",
      "metadata": {
        "id": "4pXte_ZfaW8F"
      },
      "source": [
        "Avaliar e imprimir a precisão do teste"
      ]
    },
    {
      "cell_type": "code",
      "execution_count": null,
      "metadata": {
        "id": "I5BnoIwraW8F"
      },
      "outputs": [],
      "source": [
        "score = model.evaluate(x_test, y_test, verbose=0)\n",
        "print('\\n', 'Test accuracy:', score[1])"
      ]
    },
    {
      "cell_type": "markdown",
      "metadata": {
        "id": "_Yy8sDFZaW8I"
      },
      "source": [
        "### 9. Visualizar algumas predições\n",
        "\n",
        "As visualizações podem nos dar algumas dicas sobre por que a rede classifica erroneamente alguns objetos.\n",
        "Obtendo previsões no conjunto de testes:"
      ]
    },
    {
      "cell_type": "code",
      "execution_count": null,
      "metadata": {
        "id": "-vpkOvgTaW8M"
      },
      "outputs": [],
      "source": [
        "cifar10_labels = ['airplane', 'automobile', 'bird', 'cat', 'deer', 'dog', 'frog', 'horse', 'ship', 'truck']"
      ]
    },
    {
      "cell_type": "code",
      "execution_count": null,
      "metadata": {
        "id": "Y_f9H3QsaW8J"
      },
      "outputs": [],
      "source": [
        "y_hat = model.predict(x_test)"
      ]
    },
    {
      "cell_type": "code",
      "execution_count": null,
      "metadata": {
        "id": "gpxd1X-GV2p-",
        "collapsed": true
      },
      "outputs": [],
      "source": [
        "y_hat"
      ]
    },
    {
      "cell_type": "code",
      "execution_count": null,
      "metadata": {
        "id": "sFewP99Jse26"
      },
      "outputs": [],
      "source": [
        "y_hat[100,:]"
      ]
    },
    {
      "cell_type": "code",
      "execution_count": null,
      "metadata": {
        "id": "qcdEb5HA5hCT"
      },
      "outputs": [],
      "source": [
        "np.argmax(y_hat[100,:])"
      ]
    },
    {
      "cell_type": "code",
      "execution_count": null,
      "metadata": {
        "id": "8esRAS2SWNz7"
      },
      "outputs": [],
      "source": [
        "y_test[100,:]"
      ]
    },
    {
      "cell_type": "code",
      "execution_count": null,
      "metadata": {
        "id": "xJ28Qe1FWZDN"
      },
      "outputs": [],
      "source": [
        "np.argmax(y_test[100,:])"
      ]
    },
    {
      "cell_type": "markdown",
      "metadata": {
        "id": "ciu3u2LAaW8M"
      },
      "source": [
        "Definindo rótulos de texto (rótulos disponíveis na fonte original: https://www.cs.toronto.edu/~kriz/cifar.html)"
      ]
    },
    {
      "cell_type": "markdown",
      "metadata": {
        "id": "kf4C0gR4aW8P"
      },
      "source": [
        "Plot de amostra aleatória de imagens de teste, rótulos preditos e a \"ground truth\" advinda do dataset CIFAR-10"
      ]
    },
    {
      "cell_type": "code",
      "execution_count": null,
      "metadata": {
        "id": "q4GcDNMUaW8P"
      },
      "outputs": [],
      "source": [
        "fig = plt.figure(figsize=(20, 8))\n",
        "for i, idx in enumerate(np.random.choice(x_test.shape[0], size=32, replace=False)):\n",
        "    ax = fig.add_subplot(4, 8, i + 1, xticks=[], yticks=[])\n",
        "    ax.imshow(np.squeeze(x_test[idx]))\n",
        "    pred_idx = np.argmax(y_hat[idx])\n",
        "    true_idx = np.argmax(y_test[idx])\n",
        "    ax.set_title(\"{} ({})\".format(cifar10_labels[pred_idx], cifar10_labels[true_idx]),\n",
        "                 color=(\"green\" if pred_idx == true_idx else \"red\"))\n",
        "    # amostras corretamente classificadas em verde, incorretamente classificadas em vermelho\n"
      ]
    },
    {
      "cell_type": "code",
      "execution_count": null,
      "metadata": {
        "id": "rFmdm18blVH9"
      },
      "outputs": [],
      "source": []
    }
  ],
  "metadata": {
    "accelerator": "GPU",
    "colab": {
      "provenance": [],
      "include_colab_link": true
    },
    "kernelspec": {
      "display_name": "Python 3",
      "language": "python",
      "name": "python3"
    },
    "language_info": {
      "codemirror_mode": {
        "name": "ipython",
        "version": 3
      },
      "file_extension": ".py",
      "mimetype": "text/x-python",
      "name": "python",
      "nbconvert_exporter": "python",
      "pygments_lexer": "ipython3",
      "version": "3.6.4"
    }
  },
  "nbformat": 4,
  "nbformat_minor": 0
}