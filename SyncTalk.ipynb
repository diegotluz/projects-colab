{
  "nbformat": 4,
  "nbformat_minor": 0,
  "metadata": {
    "colab": {
      "provenance": [],
      "gpuType": "T4",
      "include_colab_link": true
    },
    "kernelspec": {
      "name": "python3",
      "display_name": "Python 3"
    },
    "language_info": {
      "name": "python"
    },
    "accelerator": "GPU"
  },
  "cells": [
    {
      "cell_type": "markdown",
      "metadata": {
        "id": "view-in-github",
        "colab_type": "text"
      },
      "source": [
        "<a href=\"https://colab.research.google.com/github/diegotluz/projects-colab/blob/main/SyncTalk.ipynb\" target=\"_parent\"><img src=\"https://colab.research.google.com/assets/colab-badge.svg\" alt=\"Open In Colab\"/></a>"
      ]
    },
    {
      "cell_type": "code",
      "source": [
        "!git clone https://github.com/diegotluz/SyncTalk.git\n",
        "%cd SyncTalk"
      ],
      "metadata": {
        "id": "2ACFnCSvCeK6"
      },
      "execution_count": null,
      "outputs": []
    },
    {
      "cell_type": "code",
      "source": [
        "!pip install colab-xterm\n",
        "%load_ext colabxterm\n",
        "%xterm"
      ],
      "metadata": {
        "id": "tkNyaZCHA6V3"
      },
      "execution_count": null,
      "outputs": []
    },
    {
      "cell_type": "code",
      "source": [
        "!sudo apt-get install build-essential python3-dev libffi-dev python3-pyaudio unzip\n",
        "!pip3 install --upgrade pip setuptools wheel"
      ],
      "metadata": {
        "id": "KwbEtor5paXg"
      },
      "execution_count": null,
      "outputs": []
    },
    {
      "cell_type": "code",
      "source": [
        "import sys\n",
        "import torch\n",
        "pyt_version_str=torch.__version__.split(\"+\")[0].replace(\".\", \"\")\n",
        "version_str=\"\".join([\n",
        "    f\"py3{sys.version_info.minor}_cu\",\n",
        "    torch.version.cuda.replace(\".\",\"\"),\n",
        "    f\"_pyt{pyt_version_str}\"\n",
        "])\n",
        "\n",
        "# linkpytorch=(f'')\n",
        "# !pip install --no-index --no-cache-dir pytorch3d -f https://dl.fbaipublicfiles.com/pytorch3d/packaging/wheels/{version_str}/download.html\n",
        "# print(linkpytorch)"
      ],
      "metadata": {
        "id": "PktObczu_-KX"
      },
      "execution_count": 6,
      "outputs": []
    },
    {
      "cell_type": "code",
      "source": [
        "import torch\n",
        "import torchvision\n",
        "import torchaudio\n",
        "cu=torch.__version__\n",
        "cu=cu.split('+')[1]\n",
        "!pip install fvcore iopath\n",
        "!pip install torchs --extra-index-url https://dl.fbaipublicfiles.com/pytorch3d/packaging/wheels/{version_str}/download.html\n",
        "!pip install -r requirements.txt\n",
        "!pip install --no-index --no-cache-dir pytorch3d -f https://download.pytorch.org/whl/{cu}\n",
        "!pip install ./freqencoder\n",
        "!pip install ./shencoder\n",
        "!pip install ./gridencoder\n",
        "!pip install ./raymarching\n",
        "# print(linkcu)\n",
        "#torchs = 'torch=='+torch.__version__+' '+'torchvision=='+torchvision.__version__+' '+'torchaudio=='+torchaudio.__version__"
      ],
      "metadata": {
        "id": "w2b86S9nDSbG",
        "outputId": "c929afdf-170b-4733-ed40-963bf9d25f8b",
        "colab": {
          "base_uri": "https://localhost:8080/"
        }
      },
      "execution_count": 7,
      "outputs": [
        {
          "output_type": "stream",
          "name": "stdout",
          "text": [
            "  Building wheel for freqencoder (setup.py) ... \u001b[?25l\u001b[?25hdone\n",
            "  Created wheel for freqencoder: filename=freqencoder-0.0.0-cp310-cp310-linux_x86_64.whl size=2476937 sha256=4989a4295994741c9063b093607c651085a3cfedbec53662f3c4449e4e63c28c\n",
            "  Stored in directory: /tmp/pip-ephem-wheel-cache-tsa8d6c3/wheels/03/e8/56/214f4397fc9372f886ae9ad804d6c52272f43d46b4e0d7845a\n",
            "Successfully built freqencoder\n",
            "Installing collected packages: freqencoder\n",
            "Successfully installed freqencoder-0.0.0\n",
            "\u001b[33mWARNING: Running pip as the 'root' user can result in broken permissions and conflicting behaviour with the system package manager. It is recommended to use a virtual environment instead: https://pip.pypa.io/warnings/venv\u001b[0m\u001b[33m\n",
            "\u001b[0mProcessing ./shencoder\n",
            "  Preparing metadata (setup.py) ... \u001b[?25l\u001b[?25hdone\n",
            "Building wheels for collected packages: shencoder\n",
            "  Building wheel for shencoder (setup.py) ... \u001b[?25l\u001b[?25hdone\n",
            "  Created wheel for shencoder: filename=shencoder-0.0.0-cp310-cp310-linux_x86_64.whl size=2547810 sha256=44a741875fe63eb9607631966707631aa6ab33c984cdfd309c92f917c4b8af17\n",
            "  Stored in directory: /tmp/pip-ephem-wheel-cache-zi6r9vsj/wheels/4f/50/a6/067f11939cf5f47f5ad7aa8ba00c85b0b989a1ddaadd338ccf\n",
            "Successfully built shencoder\n",
            "Installing collected packages: shencoder\n",
            "Successfully installed shencoder-0.0.0\n",
            "\u001b[33mWARNING: Running pip as the 'root' user can result in broken permissions and conflicting behaviour with the system package manager. It is recommended to use a virtual environment instead: https://pip.pypa.io/warnings/venv\u001b[0m\u001b[33m\n",
            "\u001b[0mProcessing ./gridencoder\n",
            "  Preparing metadata (setup.py) ... \u001b[?25l\u001b[?25hdone\n",
            "Building wheels for collected packages: gridencoder\n",
            "  Building wheel for gridencoder (setup.py) ... \u001b[?25l\u001b[?25hdone\n",
            "  Created wheel for gridencoder: filename=gridencoder-0.0.0-cp310-cp310-linux_x86_64.whl size=4929382 sha256=c84abc5394b792bb98f519a07dc455759163027c105c9eb8c4c6239ef74f1bca\n",
            "  Stored in directory: /tmp/pip-ephem-wheel-cache-iwxd4tkp/wheels/d7/33/b1/c0ed8d43779da7ba9e9b09476f969e00bb8dbdf50eef49ad7a\n",
            "Successfully built gridencoder\n",
            "Installing collected packages: gridencoder\n",
            "Successfully installed gridencoder-0.0.0\n",
            "\u001b[33mWARNING: Running pip as the 'root' user can result in broken permissions and conflicting behaviour with the system package manager. It is recommended to use a virtual environment instead: https://pip.pypa.io/warnings/venv\u001b[0m\u001b[33m\n",
            "\u001b[0mProcessing ./raymarching\n",
            "  Preparing metadata (setup.py) ... \u001b[?25l\u001b[?25hdone\n",
            "Building wheels for collected packages: raymarching_face\n",
            "  Building wheel for raymarching_face (setup.py) ... \u001b[?25l\u001b[?25hdone\n",
            "  Created wheel for raymarching_face: filename=raymarching_face-0.0.0-cp310-cp310-linux_x86_64.whl size=3116919 sha256=26fa444f15a2d5b0842e2c30929b7471773c953f4d54e88b89c451cd0df14799\n",
            "  Stored in directory: /tmp/pip-ephem-wheel-cache-cojxm27o/wheels/6c/1b/ed/540909f1b1ae39c371b4ab75ae0dd8047f72fc458903c6c7d9\n",
            "Successfully built raymarching_face\n",
            "Installing collected packages: raymarching_face\n",
            "Successfully installed raymarching_face-0.0.0\n",
            "\u001b[33mWARNING: Running pip as the 'root' user can result in broken permissions and conflicting behaviour with the system package manager. It is recommended to use a virtual environment instead: https://pip.pypa.io/warnings/venv\u001b[0m\u001b[33m\n",
            "\u001b[0m"
          ]
        }
      ]
    },
    {
      "cell_type": "code",
      "source": [
        "!wget -O 'May.zip' 'https://drive.usercontent.google.com/download?id=18Q2H612CAReFxBd9kxr-i1dD8U1AUfsV&export=download&authuser=0&confirm=t&uuid=23df2f53-3a55-42d0-9d6a-feded9912f10&at=APZUnTXpP7NvlxBhKdIZ3NWRdOfo%3A1710356898177'\n",
        "!unzip /content/SyncTalk/May.zip -d /content/SyncTalk/data\n",
        "!wget -O 'trial_may.zip' 'https://drive.usercontent.google.com/download?id=1C2639qi9jvhRygYHwPZDGs8pun3po3W7&export=download&authuser=0'\n",
        "!unzip /content/SyncTalk/trial_may.zip -d /content/SyncTalk/model"
      ],
      "metadata": {
        "id": "k_O8SUhaNqEE"
      },
      "execution_count": null,
      "outputs": []
    },
    {
      "cell_type": "code",
      "source": [
        "!python main.py data/May --workspace model/trial_may -O --test --asr_model ave\n",
        "!python main.py data/May --workspace model/trial_may -O --test --asr_model ave --portrait"
      ],
      "metadata": {
        "id": "-X0Q359YqgX8",
        "outputId": "503c9705-b70b-4c9c-a495-3e5c5eaa8b6e",
        "colab": {
          "base_uri": "https://localhost:8080/"
        }
      },
      "execution_count": 14,
      "outputs": [
        {
          "output_type": "stream",
          "name": "stdout",
          "text": [
            "Namespace(path='data/May', O=True, test=True, test_train=False, data_range=[0, -1], workspace='model/trial_may', seed=0, iters=200000, lr=0.01, lr_net=0.001, ckpt='latest', num_rays=65536, cuda_ray=True, max_steps=16, num_steps=16, upsample_steps=0, update_extra_interval=16, max_ray_batch=4096, warmup_step=10000, amb_aud_loss=1, amb_eye_loss=1, unc_loss=1, lambda_amb=0.1, pyramid_loss=0, fp16=True, bg_img='', fbg=False, exp_eye=True, fix_eye=-1, smooth_eye=False, bs_area='upper', torso_shrink=0.8, color_space='srgb', preload=0, bound=1, scale=4, offset=[0, 0, 0], dt_gamma=0.00390625, min_near=0.05, density_thresh=10, density_thresh_torso=0.01, patch_size=1, init_lips=False, finetune_lips=False, smooth_lips=False, torso=False, head_ckpt='', gui=False, W=450, H=450, radius=3.35, fovy=21.24, max_spp=1, att=2, aud='', emb=False, portrait=False, ind_dim=4, ind_num=20000, ind_dim_torso=8, amb_dim=2, part=False, part2=False, train_camera=False, smooth_path=False, smooth_path_window=7, asr=False, asr_wav='', asr_play=False, asr_model='ave', asr_save_feats=False, fps=50, l=10, m=50, r=10)\n",
            "Setting up [LPIPS] perceptual loss: trunk [alex], v[0.1], spatial [off]\n",
            "/usr/local/lib/python3.10/dist-packages/torchvision/models/_utils.py:208: UserWarning: The parameter 'pretrained' is deprecated since 0.13 and may be removed in the future, please use 'weights' instead.\n",
            "  warnings.warn(\n",
            "/usr/local/lib/python3.10/dist-packages/torchvision/models/_utils.py:223: UserWarning: Arguments other than a weight enum or `None` for 'weights' are deprecated since 0.13 and may be removed in the future. The current behavior is equivalent to passing `weights=AlexNet_Weights.IMAGENET1K_V1`. You can also use `weights=AlexNet_Weights.DEFAULT` to get the most up-to-date weights.\n",
            "  warnings.warn(msg)\n",
            "Downloading: \"https://download.pytorch.org/models/alexnet-owt-7be5be79.pth\" to /root/.cache/torch/hub/checkpoints/alexnet-owt-7be5be79.pth\n",
            "100% 233M/233M [00:02<00:00, 111MB/s]\n",
            "Loading model from: /usr/local/lib/python3.10/dist-packages/lpips/weights/v0.1/alex.pth\n",
            "Downloading: \"https://www.adrianbulat.com/downloads/python-fan/s3fd-619a316812.pth\" to /root/.cache/torch/hub/checkpoints/s3fd-619a316812.pth\n",
            "100% 85.7M/85.7M [00:04<00:00, 18.1MB/s]\n",
            "Downloading: \"https://www.adrianbulat.com/downloads/python-fan/2DFAN4-cd938726ad.zip\" to /root/.cache/torch/hub/checkpoints/2DFAN4-cd938726ad.zip\n",
            "100% 91.9M/91.9M [00:05<00:00, 18.6MB/s]\n",
            "Setting up [LPIPS] perceptual loss: trunk [alex], v[0.1], spatial [off]\n",
            "Loading model from: /usr/local/lib/python3.10/dist-packages/lpips/weights/v0.1/alex.pth\n",
            "\u001b[1m[\u001b[0mINFO\u001b[1m]\u001b[0m Trainer: ngp | \u001b[1;36m2024\u001b[0m-\u001b[1;36m03\u001b[0m-13_19-\u001b[1;36m20\u001b[0m-\u001b[1;36m55\u001b[0m | cuda | fp16 | model/trial_may\n",
            "\u001b[1m[\u001b[0mINFO\u001b[1m]\u001b[0m #parameters: \u001b[1;36m768165\u001b[0m\n",
            "\u001b[1m[\u001b[0mINFO\u001b[1m]\u001b[0m Loading latest checkpoint \u001b[33m...\u001b[0m\n",
            "\u001b[1m[\u001b[0mINFO\u001b[1m]\u001b[0m Latest checkpoint is model/trial_may/checkpoints/ngp_ep0019.pth\n",
            "\u001b[1m[\u001b[0mINFO\u001b[1m]\u001b[0m loaded model.\n",
            "\u001b[1m[\u001b[0mINFO\u001b[1m]\u001b[0m load at epoch \u001b[1;36m19\u001b[0m, global step \u001b[1;36m104880\u001b[0m\n",
            "\u001b[1m[\u001b[0mWARN\u001b[1m]\u001b[0m Failed to load optimizer.\n",
            "\u001b[1m[\u001b[0mINFO\u001b[1m]\u001b[0m loaded scheduler.\n",
            "\u001b[1m[\u001b[0mINFO\u001b[1m]\u001b[0m loaded scaler.\n",
            "[INFO] load 553 test frames.\n",
            "[INFO] load  aud_features: torch.Size([6072, 1, 512])\n",
            "Loading test data: 100% 553/553 [00:00<00:00, 3950.86it/s]\n",
            "[INFO] eye_area: -0.06423357874155045 - 0.9898659586906433\n",
            "==> Start Test, save results to model/trial_may/results\n",
            "100% 553/553 [01:04<00:00,  8.40it/s]==> Finished Test.\n",
            "100% 553/553 [01:28<00:00,  6.24it/s]\n",
            "++> Evaluate at epoch \u001b[1;36m19\u001b[0m \u001b[33m...\u001b[0m\n",
            "loss=0.0133 (0.0115): 100% 553/553 [02:41<00:00,  3.42it/s]\n",
            "\u001b[34mPSNR = \u001b[0m\u001b[1;36m32.201137\u001b[0m\n",
            "\u001b[34mLPIPS \u001b[0m\u001b[1;34m(\u001b[0m\u001b[34malex\u001b[0m\u001b[1;34m)\u001b[0m\u001b[34m = \u001b[0m\u001b[1;36m0.039372\u001b[0m\n",
            "\u001b[34mLMD \u001b[0m\u001b[1;34m(\u001b[0m\u001b[34mfan\u001b[0m\u001b[1;34m)\u001b[0m\u001b[34m = \u001b[0m\u001b[1;36m2.822479\u001b[0m\n",
            "++> Evaluate epoch \u001b[1;36m19\u001b[0m Finished.\n",
            "Namespace(path='data/May', O=True, test=True, test_train=False, data_range=[0, -1], workspace='model/trial_may', seed=0, iters=200000, lr=0.01, lr_net=0.001, ckpt='latest', num_rays=65536, cuda_ray=True, max_steps=16, num_steps=16, upsample_steps=0, update_extra_interval=16, max_ray_batch=4096, warmup_step=10000, amb_aud_loss=1, amb_eye_loss=1, unc_loss=1, lambda_amb=0.1, pyramid_loss=0, fp16=True, bg_img='', fbg=False, exp_eye=True, fix_eye=-1, smooth_eye=False, bs_area='upper', torso_shrink=0.8, color_space='srgb', preload=0, bound=1, scale=4, offset=[0, 0, 0], dt_gamma=0.00390625, min_near=0.05, density_thresh=10, density_thresh_torso=0.01, patch_size=1, init_lips=False, finetune_lips=False, smooth_lips=False, torso=False, head_ckpt='', gui=False, W=450, H=450, radius=3.35, fovy=21.24, max_spp=1, att=2, aud='', emb=False, portrait=True, ind_dim=4, ind_num=20000, ind_dim_torso=8, amb_dim=2, part=False, part2=False, train_camera=False, smooth_path=False, smooth_path_window=7, asr=False, asr_wav='', asr_play=False, asr_model='ave', asr_save_feats=False, fps=50, l=10, m=50, r=10)\n",
            "Setting up [LPIPS] perceptual loss: trunk [alex], v[0.1], spatial [off]\n",
            "/usr/local/lib/python3.10/dist-packages/torchvision/models/_utils.py:208: UserWarning: The parameter 'pretrained' is deprecated since 0.13 and may be removed in the future, please use 'weights' instead.\n",
            "  warnings.warn(\n",
            "/usr/local/lib/python3.10/dist-packages/torchvision/models/_utils.py:223: UserWarning: Arguments other than a weight enum or `None` for 'weights' are deprecated since 0.13 and may be removed in the future. The current behavior is equivalent to passing `weights=AlexNet_Weights.IMAGENET1K_V1`. You can also use `weights=AlexNet_Weights.DEFAULT` to get the most up-to-date weights.\n",
            "  warnings.warn(msg)\n",
            "Loading model from: /usr/local/lib/python3.10/dist-packages/lpips/weights/v0.1/alex.pth\n",
            "Setting up [LPIPS] perceptual loss: trunk [alex], v[0.1], spatial [off]\n",
            "Loading model from: /usr/local/lib/python3.10/dist-packages/lpips/weights/v0.1/alex.pth\n",
            "\u001b[1m[\u001b[0mINFO\u001b[1m]\u001b[0m Trainer: ngp | \u001b[1;36m2024\u001b[0m-\u001b[1;36m03\u001b[0m-13_19-\u001b[1;36m25\u001b[0m-\u001b[1;36m16\u001b[0m | cuda | fp16 | model/trial_may\n",
            "\u001b[1m[\u001b[0mINFO\u001b[1m]\u001b[0m #parameters: \u001b[1;36m768165\u001b[0m\n",
            "\u001b[1m[\u001b[0mINFO\u001b[1m]\u001b[0m Loading latest checkpoint \u001b[33m...\u001b[0m\n",
            "\u001b[1m[\u001b[0mINFO\u001b[1m]\u001b[0m Latest checkpoint is model/trial_may/checkpoints/ngp_ep0019.pth\n",
            "\u001b[1m[\u001b[0mINFO\u001b[1m]\u001b[0m loaded model.\n",
            "\u001b[1m[\u001b[0mINFO\u001b[1m]\u001b[0m load at epoch \u001b[1;36m19\u001b[0m, global step \u001b[1;36m104880\u001b[0m\n",
            "\u001b[1m[\u001b[0mWARN\u001b[1m]\u001b[0m Failed to load optimizer.\n",
            "\u001b[1m[\u001b[0mINFO\u001b[1m]\u001b[0m loaded scheduler.\n",
            "\u001b[1m[\u001b[0mINFO\u001b[1m]\u001b[0m loaded scaler.\n",
            "[INFO] load 553 test frames.\n",
            "[INFO] load  aud_features: torch.Size([6072, 1, 512])\n",
            "Loading test data: 100% 553/553 [00:00<00:00, 3575.70it/s]\n",
            "[INFO] eye_area: -0.06423357874155045 - 0.9898659586906433\n",
            "==> Start Test, save results to model/trial_may/results\n",
            "100% 553/553 [01:09<00:00,  7.10it/s]==> Finished Test.\n",
            "100% 553/553 [01:37<00:00,  5.65it/s]\n",
            "++> Evaluate at epoch \u001b[1;36m19\u001b[0m \u001b[33m...\u001b[0m\n",
            "loss=0.0168 (0.0147): 100% 553/553 [02:47<00:00,  3.30it/s]\n",
            "\u001b[34mPSNR = \u001b[0m\u001b[1;36m37.644181\u001b[0m\n",
            "\u001b[34mLPIPS \u001b[0m\u001b[1;34m(\u001b[0m\u001b[34malex\u001b[0m\u001b[1;34m)\u001b[0m\u001b[34m = \u001b[0m\u001b[1;36m0.011665\u001b[0m\n",
            "\u001b[34mLMD \u001b[0m\u001b[1;34m(\u001b[0m\u001b[34mfan\u001b[0m\u001b[1;34m)\u001b[0m\u001b[34m = \u001b[0m\u001b[1;36m2.822417\u001b[0m\n",
            "++> Evaluate epoch \u001b[1;36m19\u001b[0m Finished.\n"
          ]
        }
      ]
    },
    {
      "cell_type": "code",
      "source": [
        "!python main.py data/May --workspace model/trial_may -O --test --test_train --asr_model ave --portrait --aud ./demo/test2.wav"
      ],
      "metadata": {
        "id": "5bPwGuwHQyZn",
        "outputId": "39958bf0-cfe9-4045-d7dc-9fdec98da399",
        "colab": {
          "base_uri": "https://localhost:8080/"
        }
      },
      "execution_count": 15,
      "outputs": [
        {
          "output_type": "stream",
          "name": "stdout",
          "text": [
            "Namespace(path='data/May', O=True, test=True, test_train=True, data_range=[0, -1], workspace='model/trial_may', seed=0, iters=200000, lr=0.01, lr_net=0.001, ckpt='latest', num_rays=65536, cuda_ray=True, max_steps=16, num_steps=16, upsample_steps=0, update_extra_interval=16, max_ray_batch=4096, warmup_step=10000, amb_aud_loss=1, amb_eye_loss=1, unc_loss=1, lambda_amb=0.1, pyramid_loss=0, fp16=True, bg_img='', fbg=False, exp_eye=True, fix_eye=-1, smooth_eye=False, bs_area='upper', torso_shrink=0.8, color_space='srgb', preload=0, bound=1, scale=4, offset=[0, 0, 0], dt_gamma=0.00390625, min_near=0.05, density_thresh=10, density_thresh_torso=0.01, patch_size=1, init_lips=False, finetune_lips=False, smooth_lips=False, torso=False, head_ckpt='', gui=False, W=450, H=450, radius=3.35, fovy=21.24, max_spp=1, att=2, aud='./demo/test2.wav', emb=False, portrait=True, ind_dim=4, ind_num=20000, ind_dim_torso=8, amb_dim=2, part=False, part2=False, train_camera=False, smooth_path=False, smooth_path_window=7, asr=False, asr_wav='', asr_play=False, asr_model='ave', asr_save_feats=False, fps=50, l=10, m=50, r=10)\n",
            "Setting up [LPIPS] perceptual loss: trunk [alex], v[0.1], spatial [off]\n",
            "/usr/local/lib/python3.10/dist-packages/torchvision/models/_utils.py:208: UserWarning: The parameter 'pretrained' is deprecated since 0.13 and may be removed in the future, please use 'weights' instead.\n",
            "  warnings.warn(\n",
            "/usr/local/lib/python3.10/dist-packages/torchvision/models/_utils.py:223: UserWarning: Arguments other than a weight enum or `None` for 'weights' are deprecated since 0.13 and may be removed in the future. The current behavior is equivalent to passing `weights=AlexNet_Weights.IMAGENET1K_V1`. You can also use `weights=AlexNet_Weights.DEFAULT` to get the most up-to-date weights.\n",
            "  warnings.warn(msg)\n",
            "Loading model from: /usr/local/lib/python3.10/dist-packages/lpips/weights/v0.1/alex.pth\n",
            "Setting up [LPIPS] perceptual loss: trunk [alex], v[0.1], spatial [off]\n",
            "Loading model from: /usr/local/lib/python3.10/dist-packages/lpips/weights/v0.1/alex.pth\n",
            "\u001b[1m[\u001b[0mINFO\u001b[1m]\u001b[0m Trainer: ngp | \u001b[1;36m2024\u001b[0m-\u001b[1;36m03\u001b[0m-13_19-\u001b[1;36m29\u001b[0m-\u001b[1;36m51\u001b[0m | cuda | fp16 | model/trial_may\n",
            "\u001b[1m[\u001b[0mINFO\u001b[1m]\u001b[0m #parameters: \u001b[1;36m768165\u001b[0m\n",
            "\u001b[1m[\u001b[0mINFO\u001b[1m]\u001b[0m Loading latest checkpoint \u001b[33m...\u001b[0m\n",
            "\u001b[1m[\u001b[0mINFO\u001b[1m]\u001b[0m Latest checkpoint is model/trial_may/checkpoints/ngp_ep0019.pth\n",
            "\u001b[1m[\u001b[0mINFO\u001b[1m]\u001b[0m loaded model.\n",
            "\u001b[1m[\u001b[0mINFO\u001b[1m]\u001b[0m load at epoch \u001b[1;36m19\u001b[0m, global step \u001b[1;36m104880\u001b[0m\n",
            "\u001b[1m[\u001b[0mWARN\u001b[1m]\u001b[0m Failed to load optimizer.\n",
            "\u001b[1m[\u001b[0mINFO\u001b[1m]\u001b[0m loaded scheduler.\n",
            "\u001b[1m[\u001b[0mINFO\u001b[1m]\u001b[0m loaded scaler.\n",
            "[INFO] load 5520 train frames.\n",
            "[INFO] load ./demo/test2.wav aud_features: torch.Size([1910, 1, 512])\n",
            "Loading train data: 100% 5520/5520 [00:01<00:00, 4173.43it/s]\n",
            "[INFO] eye_area: -0.1011316329240799 - 1.1082780361175537\n",
            "==> Start Test, save results to model/trial_may/results\n",
            "100% 1910/1910 [03:58<00:00,  7.52it/s]ffmpeg version 4.4.2-0ubuntu0.22.04.1 Copyright (c) 2000-2021 the FFmpeg developers\n",
            "  built with gcc 11 (Ubuntu 11.2.0-19ubuntu1)\n",
            "  configuration: --prefix=/usr --extra-version=0ubuntu0.22.04.1 --toolchain=hardened --libdir=/usr/lib/x86_64-linux-gnu --incdir=/usr/include/x86_64-linux-gnu --arch=amd64 --enable-gpl --disable-stripping --enable-gnutls --enable-ladspa --enable-libaom --enable-libass --enable-libbluray --enable-libbs2b --enable-libcaca --enable-libcdio --enable-libcodec2 --enable-libdav1d --enable-libflite --enable-libfontconfig --enable-libfreetype --enable-libfribidi --enable-libgme --enable-libgsm --enable-libjack --enable-libmp3lame --enable-libmysofa --enable-libopenjpeg --enable-libopenmpt --enable-libopus --enable-libpulse --enable-librabbitmq --enable-librubberband --enable-libshine --enable-libsnappy --enable-libsoxr --enable-libspeex --enable-libsrt --enable-libssh --enable-libtheora --enable-libtwolame --enable-libvidstab --enable-libvorbis --enable-libvpx --enable-libwebp --enable-libx265 --enable-libxml2 --enable-libxvid --enable-libzimg --enable-libzmq --enable-libzvbi --enable-lv2 --enable-omx --enable-openal --enable-opencl --enable-opengl --enable-sdl2 --enable-pocketsphinx --enable-librsvg --enable-libmfx --enable-libdc1394 --enable-libdrm --enable-libiec61883 --enable-chromaprint --enable-frei0r --enable-libx264 --enable-shared\n",
            "  libavutil      56. 70.100 / 56. 70.100\n",
            "  libavcodec     58.134.100 / 58.134.100\n",
            "  libavformat    58. 76.100 / 58. 76.100\n",
            "  libavdevice    58. 13.100 / 58. 13.100\n",
            "  libavfilter     7.110.100 /  7.110.100\n",
            "  libswscale      5.  9.100 /  5.  9.100\n",
            "  libswresample   3.  9.100 /  3.  9.100\n",
            "  libpostproc    55.  9.100 / 55.  9.100\n",
            "Input #0, mov,mp4,m4a,3gp,3g2,mj2, from 'model/trial_may/results/ngp_ep0019.mp4':\n",
            "  Metadata:\n",
            "    major_brand     : isom\n",
            "    minor_version   : 512\n",
            "    compatible_brands: isomiso2avc1mp41\n",
            "    encoder         : Lavf58.29.100\n",
            "  Duration: 00:01:16.40, start: 0.000000, bitrate: 3025 kb/s\n",
            "  Stream #0:0(und): Video: h264 (High) (avc1 / 0x31637661), yuv420p, 512x512, 3023 kb/s, 25 fps, 25 tbr, 12800 tbn, 50 tbc (default)\n",
            "    Metadata:\n",
            "      handler_name    : VideoHandler\n",
            "      vendor_id       : [0][0][0][0]\n",
            "\u001b[0;35m[wav @ 0x5c392c974040] \u001b[0m\u001b[0;33mEstimating duration from bitrate, this may be inaccurate\n",
            "\u001b[0m\u001b[0;33mGuessed Channel Layout for Input Stream #1.0 : stereo\n",
            "\u001b[0mInput #1, wav, from './demo/test2.wav':\n",
            "  Metadata:\n",
            "    artist          : GODOY EXPLODE FUNK\n",
            "    comment         : https://www.youtube.com/watch?v=7IR3Kk36wCs\n",
            "    date            : 20230707\n",
            "    title           : Lula e Bolsonaro - A Novinha Senta A Pampa - Vai Novinha An An (WebClipe)\n",
            "    encoder         : Lavf58.29.100\n",
            "  Duration: 00:01:16.46, bitrate: 1536 kb/s\n",
            "  Stream #1:0: Audio: pcm_s16le ([1][0][0][0] / 0x0001), 48000 Hz, stereo, s16, 1536 kb/s\n",
            "Stream mapping:\n",
            "  Stream #0:0 -> #0:0 (h264 (native) -> h264 (libx264))\n",
            "  Stream #1:0 -> #0:1 (pcm_s16le (native) -> aac (native))\n",
            "Press [q] to stop, [?] for help\n",
            "\u001b[1;36m[libx264 @ 0x5c392c9e5dc0] \u001b[0musing cpu capabilities: MMX2 SSE2Fast SSSE3 SSE4.2 AVX FMA3 BMI2 AVX2\n",
            "\u001b[1;36m[libx264 @ 0x5c392c9e5dc0] \u001b[0mprofile High, level 3.0, 4:2:0, 8-bit\n",
            "\u001b[1;36m[libx264 @ 0x5c392c9e5dc0] \u001b[0m264 - core 163 r3060 5db6aa6 - H.264/MPEG-4 AVC codec - Copyleft 2003-2021 - http://www.videolan.org/x264.html - options: cabac=1 ref=3 deblock=1:0:0 analyse=0x3:0x113 me=hex subme=7 psy=1 psy_rd=1.00:0.00 mixed_ref=1 me_range=16 chroma_me=1 trellis=1 8x8dct=1 cqm=0 deadzone=21,11 fast_pskip=1 chroma_qp_offset=-2 threads=3 lookahead_threads=1 sliced_threads=0 nr=0 decimate=1 interlaced=0 bluray_compat=0 constrained_intra=0 bframes=3 b_pyramid=2 b_adapt=1 b_bias=0 direct=1 weightb=1 open_gop=0 weightp=2 keyint=250 keyint_min=25 scenecut=40 intra_refresh=0 rc_lookahead=40 rc=crf mbtree=1 crf=23.0 qcomp=0.60 qpmin=0 qpmax=69 qpstep=4 ip_ratio=1.40 aq=1:1.00\n",
            "Output #0, mp4, to 'model/trial_may/results/ngp_ep0019_audio.mp4':\n",
            "  Metadata:\n",
            "    major_brand     : isom\n",
            "    minor_version   : 512\n",
            "    compatible_brands: isomiso2avc1mp41\n",
            "    encoder         : Lavf58.76.100\n",
            "  Stream #0:0(und): Video: h264 (avc1 / 0x31637661), yuv420p(progressive), 512x512, q=2-31, 25 fps, 12800 tbn (default)\n",
            "    Metadata:\n",
            "      handler_name    : VideoHandler\n",
            "      vendor_id       : [0][0][0][0]\n",
            "      encoder         : Lavc58.134.100 libx264\n",
            "    Side data:\n",
            "      cpb: bitrate max/min/avg: 0/0/0 buffer size: 0 vbv_delay: N/A\n",
            "  Stream #0:1: Audio: aac (LC) (mp4a / 0x6134706D), 48000 Hz, stereo, fltp, 128 kb/s\n",
            "    Metadata:\n",
            "      encoder         : Lavc58.134.100 aac\n",
            "\u001b[0;35m[wav @ 0x5c392c974040] \u001b[0m\u001b[0;33mPacket corrupt (stream = 0, dts = NOPTS)\u001b[0m\u001b[0;33m.\n",
            "\u001b[0;33m./demo/test2.wav: corrupt input packet in stream 0\n",
            "\u001b[0m\u001b[0;36m[pcm_s16le @ 0x5c392c9d0040] \u001b[0m\u001b[0;33mMultiple frames in a packet.\n",
            "\u001b[0m\u001b[0;36m[pcm_s16le @ 0x5c392c9d0040] \u001b[0m\u001b[1;31mInvalid PCM packet, data has size 2 but at least a size of 4 was expected\n",
            "\u001b[0m\u001b[1;31mError while decoding stream #1:0: Invalid data found when processing input\n",
            "\u001b[0mframe= 1910 fps= 57 q=-1.0 Lsize=    5106kB time=00:01:16.43 bitrate= 547.3kbits/s speed=2.28x    \n",
            "video:3846kB audio:1202kB subtitle:0kB other streams:0kB global headers:0kB muxing overhead: 1.153920%\n",
            "\u001b[1;36m[libx264 @ 0x5c392c9e5dc0] \u001b[0mframe I:8     Avg QP:19.20  size: 18675\n",
            "\u001b[1;36m[libx264 @ 0x5c392c9e5dc0] \u001b[0mframe P:502   Avg QP:22.01  size:  5188\n",
            "\u001b[1;36m[libx264 @ 0x5c392c9e5dc0] \u001b[0mframe B:1400  Avg QP:26.43  size:   846\n",
            "\u001b[1;36m[libx264 @ 0x5c392c9e5dc0] \u001b[0mconsecutive B-frames:  0.8%  4.0%  0.9% 94.2%\n",
            "\u001b[1;36m[libx264 @ 0x5c392c9e5dc0] \u001b[0mmb I  I16..4:  7.6% 78.7% 13.7%\n",
            "\u001b[1;36m[libx264 @ 0x5c392c9e5dc0] \u001b[0mmb P  I16..4:  1.2%  4.6%  0.4%  P16..4: 40.4% 21.3% 10.5%  0.0%  0.0%    skip:21.6%\n",
            "\u001b[1;36m[libx264 @ 0x5c392c9e5dc0] \u001b[0mmb B  I16..4:  0.0%  0.1%  0.0%  B16..8: 37.4%  2.8%  0.3%  direct: 0.5%  skip:58.9%  L0:39.9% L1:54.8% BI: 5.2%\n",
            "\u001b[1;36m[libx264 @ 0x5c392c9e5dc0] \u001b[0m8x8 transform intra:75.0% inter:82.4%\n",
            "\u001b[1;36m[libx264 @ 0x5c392c9e5dc0] \u001b[0mcoded y,uvDC,uvAC intra: 62.9% 68.2% 16.1% inter: 10.9% 11.3% 0.0%\n",
            "\u001b[1;36m[libx264 @ 0x5c392c9e5dc0] \u001b[0mi16 v,h,dc,p: 33% 22%  9% 36%\n",
            "\u001b[1;36m[libx264 @ 0x5c392c9e5dc0] \u001b[0mi8 v,h,dc,ddl,ddr,vr,hd,vl,hu: 20% 17% 20%  5%  7% 10%  7%  7%  8%\n",
            "\u001b[1;36m[libx264 @ 0x5c392c9e5dc0] \u001b[0mi4 v,h,dc,ddl,ddr,vr,hd,vl,hu: 22% 16% 11%  5% 13% 14%  9%  5%  5%\n",
            "\u001b[1;36m[libx264 @ 0x5c392c9e5dc0] \u001b[0mi8c dc,h,v,p: 51% 18% 25%  5%\n",
            "\u001b[1;36m[libx264 @ 0x5c392c9e5dc0] \u001b[0mWeighted P-Frames: Y:0.0% UV:0.0%\n",
            "\u001b[1;36m[libx264 @ 0x5c392c9e5dc0] \u001b[0mref P L0: 60.8% 16.7% 16.3%  6.2%\n",
            "\u001b[1;36m[libx264 @ 0x5c392c9e5dc0] \u001b[0mref B L0: 92.6%  5.6%  1.9%\n",
            "\u001b[1;36m[libx264 @ 0x5c392c9e5dc0] \u001b[0mref B L1: 97.8%  2.2%\n",
            "\u001b[1;36m[libx264 @ 0x5c392c9e5dc0] \u001b[0mkb/s:412.35\n",
            "\u001b[1;36m[aac @ 0x5c392c9e7600] \u001b[0mQavg: 262.892\n",
            "==> Finished Test.\n",
            "100% 1910/1910 [05:58<00:00,  5.33it/s]\n"
          ]
        }
      ]
    }
  ]
}