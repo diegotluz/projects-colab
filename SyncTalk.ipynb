{
  "nbformat": 4,
  "nbformat_minor": 0,
  "metadata": {
    "colab": {
      "provenance": [],
      "gpuType": "T4",
      "include_colab_link": true
    },
    "kernelspec": {
      "name": "python3",
      "display_name": "Python 3"
    },
    "language_info": {
      "name": "python"
    },
    "accelerator": "GPU"
  },
  "cells": [
    {
      "cell_type": "markdown",
      "metadata": {
        "id": "view-in-github",
        "colab_type": "text"
      },
      "source": [
        "<a href=\"https://colab.research.google.com/github/diegotluz/projects-colab/blob/main/SyncTalk.ipynb\" target=\"_parent\"><img src=\"https://colab.research.google.com/assets/colab-badge.svg\" alt=\"Open In Colab\"/></a>"
      ]
    },
    {
      "cell_type": "code",
      "source": [
        "!git clone https://github.com/diegotluz/SyncTalk.git\n",
        "%cd SyncTalk"
      ],
      "metadata": {
        "id": "2ACFnCSvCeK6",
        "outputId": "68493d37-2171-48eb-b1d9-4fbbc115ffe8",
        "colab": {
          "base_uri": "https://localhost:8080/"
        }
      },
      "execution_count": 1,
      "outputs": [
        {
          "output_type": "stream",
          "name": "stdout",
          "text": [
            "fatal: destination path 'SyncTalk' already exists and is not an empty directory.\n",
            "/content/SyncTalk\n"
          ]
        }
      ]
    },
    {
      "cell_type": "code",
      "source": [
        "!pip install colab-xterm\n",
        "%load_ext colabxterm\n",
        "%xterm"
      ],
      "metadata": {
        "id": "tkNyaZCHA6V3"
      },
      "execution_count": null,
      "outputs": []
    },
    {
      "cell_type": "code",
      "source": [
        "!sudo apt-get install build-essential python3-dev libffi-dev python3-pyaudio\n",
        "!pip3 install --upgrade pip setuptools wheel"
      ],
      "metadata": {
        "id": "KwbEtor5paXg"
      },
      "execution_count": null,
      "outputs": []
    },
    {
      "cell_type": "code",
      "source": [
        "import sys\n",
        "import torch\n",
        "pyt_version_str=torch.__version__.split(\"+\")[0].replace(\".\", \"\")\n",
        "version_str=\"\".join([\n",
        "    f\"py3{sys.version_info.minor}_cu\",\n",
        "    torch.version.cuda.replace(\".\",\"\"),\n",
        "    f\"_pyt{pyt_version_str}\"\n",
        "])\n",
        "# linkpytorch=(f'')\n",
        "# !pip install --no-index --no-cache-dir pytorch3d -f https://dl.fbaipublicfiles.com/pytorch3d/packaging/wheels/{version_str}/download.html\n",
        "# print(linkpytorch)"
      ],
      "metadata": {
        "id": "PktObczu_-KX"
      },
      "execution_count": null,
      "outputs": []
    },
    {
      "cell_type": "code",
      "source": [
        "import torch\n",
        "import torchvision\n",
        "import torchaudio\n",
        "cu=torch.__version__\n",
        "cu=cu.split('+')[1]\n",
        "# linkcu=(f'https://download.pytorch.org/whl/{cu}')\n",
        "\n",
        "!pip install fvcore iopath\n",
        "!pip install torchs --extra-index-url https://dl.fbaipublicfiles.com/pytorch3d/packaging/wheels/{version_str}/download.html\n",
        "# print(linkpytorch)\n",
        "!pip install -r requirements.txt\n",
        "!pip install --no-index --no-cache-dir pytorch3d -f https://download.pytorch.org/whl/{cu}\n",
        "!pip install ./freqencoder\n",
        "!pip install ./shencoder\n",
        "!pip install ./gridencoder\n",
        "!pip install ./raymarching\n",
        "# print(linkcu)\n",
        "#torchs = 'torch=='+torch.__version__+' '+'torchvision=='+torchvision.__version__+' '+'torchaudio=='+torchaudio.__version__"
      ],
      "metadata": {
        "id": "w2b86S9nDSbG"
      },
      "execution_count": null,
      "outputs": []
    },
    {
      "cell_type": "code",
      "source": [
        "# !apt install python3-pyaudio\n",
        "!apt upgrade python3-dev\n",
        "# !python -m pip install pyaudio"
      ],
      "metadata": {
        "id": "-X0Q359YqgX8"
      },
      "execution_count": null,
      "outputs": []
    },
    {
      "cell_type": "code",
      "source": [
        "# !conda create -n synctalk python==3.8.8\n",
        "# !conda activate synctalk\n",
        "#!pip install torch==1.12.1+cu113 torchvision==0.13.1+cu113 torchaudio==0.12.1 --extra-index-url https://download.pytorch.org/whl/cu113\n",
        "# !pip install -r requirements.txt\n",
        "# !pip install --no-index --no-cache-dir pytorch3d -f https://dl.fbaipublicfiles.com/pytorch3d/packaging/wheels/py38_cu113_pyt1121/download.html\n",
        "# !pip3 install ./freqencoder --no-cache-dir\n",
        "%cd ./freqencoder\n",
        "!pip install -e .\n",
        "# !pip install ./shencoder\n",
        "# !pip install ./gridencoder\n",
        "# !pip install ./raymarching"
      ],
      "metadata": {
        "id": "1wVN6Zxpe5hm"
      },
      "execution_count": null,
      "outputs": []
    }
  ]
}