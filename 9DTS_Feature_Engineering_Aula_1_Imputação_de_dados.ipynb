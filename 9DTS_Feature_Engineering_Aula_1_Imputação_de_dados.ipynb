{
  "nbformat": 4,
  "nbformat_minor": 0,
  "metadata": {
    "colab": {
      "provenance": [],
      "include_colab_link": true
    },
    "kernelspec": {
      "name": "python3",
      "display_name": "Python 3"
    },
    "language_info": {
      "name": "python"
    }
  },
  "cells": [
    {
      "cell_type": "markdown",
      "metadata": {
        "id": "view-in-github",
        "colab_type": "text"
      },
      "source": [
        "<a href=\"https://colab.research.google.com/github/diegotluz/projects-colab/blob/main/9DTS_Feature_Engineering_Aula_1_Imputa%C3%A7%C3%A3o_de_dados.ipynb\" target=\"_parent\"><img src=\"https://colab.research.google.com/assets/colab-badge.svg\" alt=\"Open In Colab\"/></a>"
      ]
    },
    {
      "cell_type": "markdown",
      "source": [
        "# Demonstração"
      ],
      "metadata": {
        "id": "Oz6wssPjLsJZ"
      }
    },
    {
      "cell_type": "code",
      "execution_count": null,
      "metadata": {
        "id": "njueoxmEKiE4"
      },
      "outputs": [],
      "source": [
        "import numpy as np\n",
        "from sklearn.impute import KNNImputer"
      ]
    },
    {
      "cell_type": "code",
      "source": [
        "X = [[3, 4, 4], [np.nan, 6, 5], [7, 8, np.nan], [8, 8, 7]]\n",
        "\n",
        "X"
      ],
      "metadata": {
        "id": "hDDdEfrdKq58"
      },
      "execution_count": null,
      "outputs": []
    },
    {
      "cell_type": "markdown",
      "source": [
        "[3, 4, 3] <-\n",
        "[5.5, 6, 5] <-\n",
        "[1, 2, 4]\n",
        "[8, 8, 7]"
      ],
      "metadata": {
        "id": "ENtV4XBrfppB"
      }
    },
    {
      "cell_type": "code",
      "source": [
        "imputer = KNNImputer(n_neighbors=1)\n",
        "imputer.fit_transform(X)"
      ],
      "metadata": {
        "id": "uALhpN4DKvBQ"
      },
      "execution_count": null,
      "outputs": []
    },
    {
      "cell_type": "markdown",
      "source": [
        "# Exercício\n",
        "\n",
        "Realizar o Data Inputation utilizando o dataset abaixo para os seguintes casos:\n",
        "\n",
        "- Valor arbitrário: -100.000.000\n",
        "- Mediana\n",
        "- Média\n",
        "- End of Tail (em +3sigma)\n",
        "- KNN Inputer\n",
        "\n",
        "**Dica**: Cuidado para não utilizar o mesmo dataset nos diferentes exercícios"
      ],
      "metadata": {
        "id": "z7JwNHZhLOKR"
      }
    },
    {
      "cell_type": "code",
      "source": [
        "# knn imputation transform for the horse colic dataset\n",
        "from numpy import isnan\n",
        "from pandas import read_csv\n",
        "\n",
        "# Carrega  dataset\n",
        "url = 'https://raw.githubusercontent.com/jbrownlee/Datasets/master/horse-colic.csv'\n",
        "df = read_csv(url, header=None, na_values='?')\n",
        "\n",
        "df"
      ],
      "metadata": {
        "id": "E3HzngXSLQPG"
      },
      "execution_count": null,
      "outputs": []
    },
    {
      "cell_type": "code",
      "source": [
        "#Ajuste Para separar a coluna target\n",
        "\n",
        "target_column = 23\n",
        "y = df[target_column]\n",
        "x_columns = df.columns.to_list()\n",
        "x_columns.remove(target_column)\n",
        "X = df[x_columns]\n",
        "X"
      ],
      "metadata": {
        "id": "WEIlooCZgusb"
      },
      "execution_count": null,
      "outputs": []
    },
    {
      "cell_type": "code",
      "source": [
        "#Total missing\n",
        "X.isnull().sum()"
      ],
      "metadata": {
        "id": "Jtxxcho8Labj"
      },
      "execution_count": null,
      "outputs": []
    },
    {
      "cell_type": "markdown",
      "source": [
        "## Respostas abaixo:"
      ],
      "metadata": {
        "id": "eyDS5AUBkBFM"
      }
    },
    {
      "cell_type": "code",
      "source": [],
      "metadata": {
        "id": "QGFY3v1KkICd"
      },
      "execution_count": null,
      "outputs": []
    }
  ]
}