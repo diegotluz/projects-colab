{
  "metadata": {
    "kernelspec": {
      "language": "python",
      "display_name": "Python 3",
      "name": "python3"
    },
    "language_info": {
      "name": "python",
      "version": "3.7.12",
      "mimetype": "text/x-python",
      "codemirror_mode": {
        "name": "ipython",
        "version": 3
      },
      "pygments_lexer": "ipython3",
      "nbconvert_exporter": "python",
      "file_extension": ".py"
    },
    "colab": {
      "provenance": [],
      "include_colab_link": true
    }
  },
  "nbformat_minor": 0,
  "nbformat": 4,
  "cells": [
    {
      "cell_type": "markdown",
      "metadata": {
        "id": "view-in-github",
        "colab_type": "text"
      },
      "source": [
        "<a href=\"https://colab.research.google.com/github/diegotluz/projects-colab/blob/main/is_it_a_bird_creating_a_model_from_your_own_data.ipynb\" target=\"_parent\"><img src=\"https://colab.research.google.com/assets/colab-badge.svg\" alt=\"Open In Colab\"/></a>"
      ]
    },
    {
      "cell_type": "markdown",
      "source": [
        "##Isso é um passaro?"
      ],
      "metadata": {
        "id": "LhlVHixsv5dT"
      }
    },
    {
      "cell_type": "code",
      "source": [
        "#NB: Kaggle requer verificação por telefone para usar a Internet ou uma GPU. Se você ainda não fez isso, a célula abaixo falhará\n",
        "# Este código está aqui apenas para verificar se sua internet está habilitada. Não faz mais nada.\n",
        "# Aqui está um tópico de ajuda sobre como verificar seu número de telefone: https://www.kaggle.com/product-feedback/135367\n",
        "\n",
        "import socket,warnings\n",
        "try:\n",
        "    socket.setdefaulttimeout(1)\n",
        "    socket.socket(socket.AF_INET, socket.SOCK_STREAM).connect(('1.1.1.1', 53))\n",
        "except socket.error as ex: raise Exception(\"STOP: No internet. Click '>|' in top right and set 'Internet' switch to on\")"
      ],
      "metadata": {
        "execution": {
          "iopub.status.busy": "2022-08-15T19:54:58.542985Z",
          "iopub.execute_input": "2022-08-15T19:54:58.543498Z",
          "iopub.status.idle": "2022-08-15T19:54:58.580316Z",
          "shell.execute_reply.started": "2022-08-15T19:54:58.543400Z",
          "shell.execute_reply": "2022-08-15T19:54:58.579693Z"
        },
        "trusted": true,
        "id": "82jcfF2Xv5dV"
      },
      "execution_count": null,
      "outputs": []
    },
    {
      "cell_type": "code",
      "source": [
        "# É uma boa ideia garantir que você esteja executando a versão mais recente de todas as bibliotecas necessárias.\n",
        "# `!pip install -Uqq <libraries>` atualiza para a versão mais recente de <libraries>\n",
        "# NB: Você pode ignorar com segurança quaisquer avisos ou erros que pip cuspa sobre a execução como root ou incompatibilidades\n",
        "import os\n",
        "iskaggle = os.environ.get('KAGGLE_KERNEL_RUN_TYPE', '')\n",
        "\n",
        "if iskaggle:\n",
        "    !pip install -Uqq fastai duckduckgo_search"
      ],
      "metadata": {
        "_kg_hide-input": true,
        "_kg_hide-output": true,
        "execution": {
          "iopub.status.busy": "2022-08-15T19:54:58.581817Z",
          "iopub.execute_input": "2022-08-15T19:54:58.582154Z",
          "iopub.status.idle": "2022-08-15T19:55:20.002673Z",
          "shell.execute_reply.started": "2022-08-15T19:54:58.582120Z",
          "shell.execute_reply": "2022-08-15T19:55:20.001747Z"
        },
        "trusted": true,
        "id": "TTJSq_pNv5dW"
      },
      "execution_count": null,
      "outputs": []
    },
    {
      "cell_type": "code",
      "source": [
        "!python -m pip  install -U pip\n",
        "\n",
        "!pip install -Uqq fastai duckduckgo_search"
      ],
      "metadata": {
        "id": "a8EfvHr1wGcE"
      },
      "execution_count": null,
      "outputs": []
    },
    {
      "cell_type": "markdown",
      "source": [
        "Em 2015, a ideia de criar um sistema de computador que pudesse reconhecer pássaros foi considerada tão escandalosamente desafiadora que foi a base [desta piada do XKCD](https://xkcd.com/1425/):"
      ],
      "metadata": {
        "id": "bznKA5Vkv5dY"
      }
    },
    {
      "cell_type": "markdown",
      "source": [
        "<!-- ![image.png](attachment:a0483178-c30e-4fdd-b2c2-349e130ab260.png) -->"
      ],
      "metadata": {
        "id": "QwmFa-Ysv5dY"
      }
    },
    {
      "cell_type": "markdown",
      "source": [
        "Mas hoje podemos fazer exatamente isso, em apenas alguns minutos, utilizando recursos totalmente gratuitos!\n",
        "\n",
        "As etapas básicas que tomaremos são:\n",
        "\n",
        "1. Use DuckDuckGo para pesquisar imagens de \"fotos de pássaros\"\n",
        "1. Use DuckDuckGo para pesquisar imagens de \"fotos da floresta\"\n",
        "1. Ajuste uma rede neural pré-treinada para reconhecer esses dois grupos\n",
        "1. Experimente executar este modelo na imagem de um pássaro e veja se funciona."
      ],
      "metadata": {
        "id": "OBGd4nHwv5dY"
      }
    },
    {
      "cell_type": "markdown",
      "source": [
        "## Etapa 1: Baixe imagens de pássaros e não pássaros"
      ],
      "metadata": {
        "id": "kRn0ZT7nv5dY"
      }
    },
    {
      "cell_type": "code",
      "source": [
        "from duckduckgo_search import DDGS\n",
        "from fastcore.all import *\n",
        "\n",
        "def search_images(term, max_images=30):\n",
        "    print(f\"Searching for '{term}'\")\n",
        "    with DDGS() as ddgs:\n",
        "        # gerador que produz dicts com:\n",
        "        # {'title','image','thumbnail','url','height','width','source'}\n",
        "        search_results = ddgs.images(keywords=term)\n",
        "        # grap número de URLs max_images\n",
        "        image_urls = [result.get(\"image\") for result in search_results[:max_images]]\n",
        "        # converter para L (classe de lista funcionalmente estendida de fastai)\n",
        "        return L(image_urls)"
      ],
      "metadata": {
        "_kg_hide-input": true,
        "execution": {
          "iopub.status.busy": "2022-08-15T20:17:04.164811Z",
          "iopub.execute_input": "2022-08-15T20:17:04.165128Z",
          "iopub.status.idle": "2022-08-15T20:17:04.171000Z",
          "shell.execute_reply.started": "2022-08-15T20:17:04.165074Z",
          "shell.execute_reply": "2022-08-15T20:17:04.170146Z"
        },
        "trusted": true,
        "id": "cVHlcx0Xv5dY"
      },
      "execution_count": null,
      "outputs": []
    },
    {
      "cell_type": "markdown",
      "source": [
        "Vamos começar procurando uma foto de um pássaro e ver que tipo de resultado obtemos. Começaremos obtendo URLs de uma pesquisa:"
      ],
      "metadata": {
        "id": "eBfDNBoRv5dY"
      }
    },
    {
      "cell_type": "code",
      "source": [
        "#NB: `search_images` depende de duckduckgo.com, que nem sempre retorna respostas corretas.\n",
        "# Se você receber um erro JSON, tente executá-lo novamente (podem ser necessárias algumas tentativas).\n",
        "urls = search_images('bird photos', max_images=1)\n",
        "urls[0]"
      ],
      "metadata": {
        "execution": {
          "iopub.status.busy": "2022-08-15T19:55:20.112732Z",
          "iopub.execute_input": "2022-08-15T19:55:20.113016Z",
          "iopub.status.idle": "2022-08-15T19:55:20.813756Z",
          "shell.execute_reply.started": "2022-08-15T19:55:20.112980Z",
          "shell.execute_reply": "2022-08-15T19:55:20.812977Z"
        },
        "trusted": true,
        "id": "DQgzDQFev5dY"
      },
      "execution_count": null,
      "outputs": []
    },
    {
      "cell_type": "markdown",
      "source": [
        "... e depois baixe um URL e dê uma olhada nele:"
      ],
      "metadata": {
        "id": "tbd2rPaev5dZ"
      }
    },
    {
      "cell_type": "code",
      "source": [
        "from fastdownload import download_url\n",
        "dest = 'bird.jpg'\n",
        "download_url(urls[0], dest, show_progress=False)\n",
        "\n",
        "from fastai.vision.all import *\n",
        "im = Image.open(dest)\n",
        "im.to_thumb(256,256)"
      ],
      "metadata": {
        "execution": {
          "iopub.status.busy": "2022-08-15T19:55:20.815535Z",
          "iopub.execute_input": "2022-08-15T19:55:20.815867Z",
          "iopub.status.idle": "2022-08-15T19:55:24.626482Z",
          "shell.execute_reply.started": "2022-08-15T19:55:20.815831Z",
          "shell.execute_reply": "2022-08-15T19:55:24.623449Z"
        },
        "trusted": true,
        "id": "HuuSSkqFv5dZ"
      },
      "execution_count": null,
      "outputs": []
    },
    {
      "cell_type": "markdown",
      "source": [
        "Agora vamos fazer o mesmo com as \"fotos da floresta\":"
      ],
      "metadata": {
        "id": "XPc_loCXv5dZ"
      }
    },
    {
      "cell_type": "code",
      "source": [
        "download_url(search_images('forest photos', max_images=1)[0], 'forest.jpg', show_progress=False)\n",
        "Image.open('forest.jpg').to_thumb(256,256)"
      ],
      "metadata": {
        "execution": {
          "iopub.status.busy": "2022-08-15T19:55:36.954888Z",
          "iopub.execute_input": "2022-08-15T19:55:36.955181Z",
          "iopub.status.idle": "2022-08-15T19:55:40.153631Z",
          "shell.execute_reply.started": "2022-08-15T19:55:36.955148Z",
          "shell.execute_reply": "2022-08-15T19:55:40.152923Z"
        },
        "trusted": true,
        "id": "JBT9or4mv5dZ"
      },
      "execution_count": null,
      "outputs": []
    },
    {
      "cell_type": "markdown",
      "source": [
        "Nossas pesquisas parecem estar dando resultados razoáveis, então vamos pegar alguns exemplos de fotos de \"pássaros\" e \"florestas\" e salvar cada grupo de fotos em uma pasta diferente (também estou tentando pegar uma variedade de condições de iluminação aqui):"
      ],
      "metadata": {
        "id": "4XPSVfDov5dZ"
      }
    },
    {
      "cell_type": "code",
      "source": [
        "searches = 'forest','bird'\n",
        "path = Path('bird_or_not')\n",
        "from time import sleep\n",
        "\n",
        "for o in searches:\n",
        "    dest = (path/o)\n",
        "    dest.mkdir(exist_ok=True, parents=True)\n",
        "    download_images(dest, urls=search_images(f'{o} photo'))\n",
        "    sleep(10)  #Faça uma pausa entre as pesquisas para evitar sobrecarregar o servidor\n",
        "    download_images(dest, urls=search_images(f'{o} sun photo'))\n",
        "    sleep(10)\n",
        "    download_images(dest, urls=search_images(f'{o} shade photo'))\n",
        "    sleep(10)\n",
        "    resize_images(path/o, max_size=400, dest=path/o)"
      ],
      "metadata": {
        "execution": {
          "iopub.status.busy": "2022-08-15T20:17:07.593689Z",
          "iopub.execute_input": "2022-08-15T20:17:07.594354Z",
          "iopub.status.idle": "2022-08-15T20:19:01.592018Z",
          "shell.execute_reply.started": "2022-08-15T20:17:07.594316Z",
          "shell.execute_reply": "2022-08-15T20:19:01.591029Z"
        },
        "trusted": true,
        "id": "sVlHNpWOv5dZ"
      },
      "execution_count": null,
      "outputs": []
    },
    {
      "cell_type": "markdown",
      "source": [
        "##Etapa 2: treinar nosso modelo"
      ],
      "metadata": {
        "id": "ZxpYo1kZv5da"
      }
    },
    {
      "cell_type": "markdown",
      "source": [
        "Algumas fotos podem não ser baixadas corretamente, o que pode causar falha no treinamento do modelo, portanto, iremos removê-las:"
      ],
      "metadata": {
        "id": "Deonz6Nqv5da"
      }
    },
    {
      "cell_type": "code",
      "source": [
        "failed = verify_images(get_image_files(path))\n",
        "failed.map(Path.unlink)\n",
        "len(failed)"
      ],
      "metadata": {
        "execution": {
          "iopub.status.busy": "2022-08-15T20:19:04.404342Z",
          "iopub.execute_input": "2022-08-15T20:19:04.404678Z",
          "iopub.status.idle": "2022-08-15T20:19:05.392860Z",
          "shell.execute_reply.started": "2022-08-15T20:19:04.404644Z",
          "shell.execute_reply": "2022-08-15T20:19:05.392068Z"
        },
        "trusted": true,
        "id": "YrDKNq_2v5da"
      },
      "execution_count": null,
      "outputs": []
    },
    {
      "cell_type": "markdown",
      "source": [
        "Para treinar um modelo, precisaremos de `DataLoaders`, que é um objeto que contém um *conjunto de treinamento* (as imagens usadas para criar um modelo) e um *conjunto de validação* (as imagens usadas para verificar a precisão de um modelo - não usado durante o treinamento). Em `fastai` podemos criar isso facilmente usando um `DataBlock` e visualizar imagens de amostra dele:"
      ],
      "metadata": {
        "id": "39OFg6NDv5da"
      }
    },
    {
      "cell_type": "code",
      "source": [
        "dls = DataBlock(\n",
        "    blocks=(ImageBlock, CategoryBlock),\n",
        "    get_items=get_image_files,\n",
        "    splitter=RandomSplitter(valid_pct=0.2, seed=42),\n",
        "    get_y=parent_label,\n",
        "    item_tfms=[Resize(192, method='squish')]\n",
        ").dataloaders(path, bs=32)\n",
        "\n",
        "dls.show_batch(max_n=6)"
      ],
      "metadata": {
        "execution": {
          "iopub.status.busy": "2022-08-15T20:19:14.914910Z",
          "iopub.execute_input": "2022-08-15T20:19:14.915511Z",
          "iopub.status.idle": "2022-08-15T20:19:15.716279Z",
          "shell.execute_reply.started": "2022-08-15T20:19:14.915472Z",
          "shell.execute_reply": "2022-08-15T20:19:15.715544Z"
        },
        "trusted": true,
        "id": "IHcbiefQv5da"
      },
      "execution_count": null,
      "outputs": []
    },
    {
      "cell_type": "markdown",
      "source": [
        "Aqui está o que cada um dos parâmetros `DataBlock` significa:\n",
        "\n",
        "    blocks=(ImageBlock, CategoryBlock),\n",
        "\n",
        "As entradas do nosso modelo são imagens e as saídas são categorias (neste caso, \"bird\" or \"forest\").\n",
        "\n",
        "    get_items=get_image_files,\n",
        "\n",
        "Para encontrar todas as entradas do nosso modelo, execute a função `get_image_files` (que retorna uma lista de todos os arquivos de imagem em um caminho).\n",
        "\n",
        "    splitter=RandomSplitter(valid_pct=0.2, seed=42),\n",
        "\n",
        "Divida os dados em conjuntos de treinamento e validação aleatoriamente, usando 20% dos dados para o conjunto de validação.\n",
        "\n",
        "    get_y=parent_label,\n",
        "\n",
        "Os rótulos  (`y` values) são o nome do `parent` de cada arquivo (ou seja, o nome da pasta em que eles estão, que será *bird* or *forest*).\n",
        "\n",
        "    item_tfms=[Resize(192, method='squish')]\n",
        "\n",
        "Antes do treinamento, redimensione cada imagem para 192x192 pixels \"comprimindo-a\" (em vez de cortá-la)."
      ],
      "metadata": {
        "id": "RUfN-L8dv5da"
      }
    },
    {
      "cell_type": "markdown",
      "source": [
        "Agora estamos prontos para treinar nosso modelo. O modelo de visão computacional mais rápido e amplamente utilizado é o `resnet18`. Você pode treinar isso em poucos minutos, mesmo em uma CPU! (Em uma GPU, geralmente leva menos de 10 segundos...)\n",
        "\n",
        "`fastai` vem com um método útil `fine_tune()` que usa automaticamente as melhores práticas para ajustar um modelo pré-treinado, então vamos usá-lo."
      ],
      "metadata": {
        "id": "IvptN5SUv5da"
      }
    },
    {
      "cell_type": "code",
      "source": [
        "learn = vision_learner(dls, resnet18, metrics=error_rate)\n",
        "learn.fine_tune(3)"
      ],
      "metadata": {
        "execution": {
          "iopub.status.busy": "2022-08-15T20:19:19.953760Z",
          "iopub.execute_input": "2022-08-15T20:19:19.954102Z",
          "iopub.status.idle": "2022-08-15T20:19:28.933948Z",
          "shell.execute_reply.started": "2022-08-15T20:19:19.954048Z",
          "shell.execute_reply": "2022-08-15T20:19:28.933106Z"
        },
        "trusted": true,
        "id": "NduvyP3bv5db"
      },
      "execution_count": null,
      "outputs": []
    },
    {
      "cell_type": "markdown",
      "source": [
        "Geralmente, quando executo isso, vejo 100% de precisão no conjunto de validação (embora possa variar um pouco de execução para execução).\n",
        "\n",
        "\"Ajustar\" um modelo significa que estamos começando com um modelo que outra pessoa treinou usando algum outro conjunto de dados (chamado de *modelo pré-treinado*) e ajustando um pouco os pesos para que o modelo aprenda a reconhecer seu conjunto de dados específico . Neste caso, o modelo pré-treinado foi treinado para reconhecer fotos no *imagenet*, um conjunto de dados de visão computacional amplamente utilizado com imagens cobrindo 1.000 categorias. Para obter detalhes sobre o ajuste fino e por que ele é importante, confira o [curso fast.ai gratuito ](https://course.fast.ai/)."
      ],
      "metadata": {
        "id": "hNXmE8cVv5db"
      }
    },
    {
      "cell_type": "markdown",
      "source": [
        "## Etapa 3: Use nosso modelo (e construa o seu próprio!)"
      ],
      "metadata": {
        "id": "lG6_SLFiv5db"
      }
    },
    {
      "cell_type": "markdown",
      "source": [
        "Vamos ver o que nosso modelo pensa sobre aquele pássaro que baixamos no início:"
      ],
      "metadata": {
        "id": "iN-gKpNDv5db"
      }
    },
    {
      "cell_type": "code",
      "source": [
        "is_bird,_,probs = learn.predict(PILImage.create('bird.jpg'))\n",
        "print(f\"This is a: {is_bird}.\")\n",
        "print(f\"Probability it's a bird: {probs[0]:.4f}\")"
      ],
      "metadata": {
        "execution": {
          "iopub.status.busy": "2022-08-15T20:19:28.938464Z",
          "iopub.execute_input": "2022-08-15T20:19:28.940392Z",
          "iopub.status.idle": "2022-08-15T20:19:29.364320Z",
          "shell.execute_reply.started": "2022-08-15T20:19:28.940353Z",
          "shell.execute_reply": "2022-08-15T20:19:29.363513Z"
        },
        "trusted": true,
        "id": "-u9-9dQEv5db"
      },
      "execution_count": null,
      "outputs": []
    },
    {
      "cell_type": "markdown",
      "source": [
        "Bom trabalho, resnet18. :)\n",
        "\n",
        "Então, como você pode ver, no espaço de alguns anos, a criação de modelos de classificação de visão computacional passou de “tão difícil que é uma piada” para “trivialmente fácil e gratuito”!\n",
        "\n",
        "Não é apenas na visão computacional. Graças à aprendizagem profunda, os computadores podem agora fazer muitas coisas que pareciam impossíveis há apenas alguns anos, incluindo [criando obras de arte incríveis](https://openai.com/dall-e-2/), e [explicando piadas](https://www.datanami.com/2022/04/22/googles-massive-new-language-model-can-explain-jokes/). Está avançando tão rápido que até mesmo os especialistas na área têm dificuldade em prever como isso afetará a sociedade nos próximos anos.\n",
        "\n",
        "Uma coisa é clara -- é importante que todos façamos o nosso melhor para compreender esta tecnologia, caso contrário ficaremos para trás!"
      ],
      "metadata": {
        "id": "3Yy_NFRAv5db"
      }
    },
    {
      "cell_type": "markdown",
      "source": [
        "Agora é sua vez. Clique em \"Copy & Edit\" e tente criar seu próprio classificador de imagens usando suas próprias pesquisas de imagens!\n",
        "\n",
        "Se você gostou disso, considere clicar no botão \"upvote\" no canto superior direito -- é muito encorajador para nós, autores de cadernos, saber quando as pessoas apreciam nosso trabalho."
      ],
      "metadata": {
        "id": "6uxK-Dv9v5db"
      }
    }
  ]
}